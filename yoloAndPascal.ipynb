{
 "cells": [
  {
   "cell_type": "code",
   "execution_count": 1,
   "metadata": {
    "_cell_guid": "b1076dfc-b9ad-4769-8c92-a6c4dae69d19",
    "_uuid": "8f2839f25d086af736a60e9eeb907d3b93b6e0e5",
    "execution": {
     "iopub.execute_input": "2024-11-18T17:48:49.789643Z",
     "iopub.status.busy": "2024-11-18T17:48:49.789245Z",
     "iopub.status.idle": "2024-11-18T17:48:49.795667Z",
     "shell.execute_reply": "2024-11-18T17:48:49.794293Z",
     "shell.execute_reply.started": "2024-11-18T17:48:49.789608Z"
    },
    "trusted": true
   },
   "outputs": [],
   "source": [
    "# This Python 3 environment comes with many helpful analytics libraries installed\n",
    "# It is defined by the kaggle/python Docker image: https://github.com/kaggle/docker-python\n",
    "# For example, here's several helpful packages to load\n",
    "\n",
    "import numpy as np # linear algebra\n",
    "import pandas as pd # data processing, CSV file I/O (e.g. pd.read_csv)\n",
    "\n",
    "# Input data files are available in the read-only \"../input/\" directory\n",
    "# For example, running this (by clicking run or pressing Shift+Enter) will list all files under the input directory\n",
    "\n",
    "# import os\n",
    "# for dirname, _, filenames in os.walk('/kaggle/input'):\n",
    "#     for filename in filenames:\n",
    "#         print(os.path.join(dirname, filename))\n",
    "\n",
    "# You can write up to 20GB to the current directory (/kaggle/working/) that gets preserved as output when you create a version using \"Save & Run All\" \n",
    "# You can also write temporary files to /kaggle/temp/, but they won't be saved outside of the current session"
   ]
  },
  {
   "cell_type": "code",
   "execution_count": null,
   "metadata": {
    "execution": {
     "iopub.execute_input": "2024-11-18T17:48:49.798084Z",
     "iopub.status.busy": "2024-11-18T17:48:49.797733Z",
     "iopub.status.idle": "2024-11-18T17:49:02.595615Z",
     "shell.execute_reply": "2024-11-18T17:49:02.594282Z",
     "shell.execute_reply.started": "2024-11-18T17:48:49.798044Z"
    },
    "trusted": true
   },
   "outputs": [],
   "source": [
    "pip install ultralytics"
   ]
  },
  {
   "cell_type": "code",
   "execution_count": null,
   "metadata": {
    "execution": {
     "iopub.execute_input": "2024-11-18T17:49:02.598089Z",
     "iopub.status.busy": "2024-11-18T17:49:02.597603Z",
     "iopub.status.idle": "2024-11-18T17:49:06.734384Z",
     "shell.execute_reply": "2024-11-18T17:49:06.733269Z",
     "shell.execute_reply.started": "2024-11-18T17:49:02.598037Z"
    },
    "trusted": true
   },
   "outputs": [],
   "source": [
    "from ultralytics import YOLO"
   ]
  },
  {
   "cell_type": "code",
   "execution_count": 4,
   "metadata": {
    "execution": {
     "iopub.execute_input": "2024-11-18T17:49:06.737249Z",
     "iopub.status.busy": "2024-11-18T17:49:06.736692Z",
     "iopub.status.idle": "2024-11-18T17:49:06.741957Z",
     "shell.execute_reply": "2024-11-18T17:49:06.740818Z",
     "shell.execute_reply.started": "2024-11-18T17:49:06.737176Z"
    },
    "trusted": true
   },
   "outputs": [],
   "source": [
    "train = \"/kaggle/input/pascal-voc-2012-dataset/VOC2012_train_val\""
   ]
  },
  {
   "cell_type": "code",
   "execution_count": null,
   "metadata": {
    "execution": {
     "iopub.execute_input": "2024-11-18T17:49:06.743814Z",
     "iopub.status.busy": "2024-11-18T17:49:06.743476Z",
     "iopub.status.idle": "2024-11-18T17:49:07.585910Z",
     "shell.execute_reply": "2024-11-18T17:49:07.584547Z",
     "shell.execute_reply.started": "2024-11-18T17:49:06.743779Z"
    },
    "trusted": true
   },
   "outputs": [],
   "source": [
    "model = YOLO(\"yolov8n.pt\")"
   ]
  },
  {
   "cell_type": "code",
   "execution_count": null,
   "metadata": {
    "execution": {
     "iopub.execute_input": "2024-11-18T17:49:07.587912Z",
     "iopub.status.busy": "2024-11-18T17:49:07.587461Z",
     "iopub.status.idle": "2024-11-18T17:49:22.998407Z",
     "shell.execute_reply": "2024-11-18T17:49:22.997248Z",
     "shell.execute_reply.started": "2024-11-18T17:49:07.587861Z"
    },
    "trusted": true
   },
   "outputs": [],
   "source": [
    "import tensorflow as tf\n",
    "import matplotlib.pyplot as plt\n",
    "from PIL import Image\n",
    "import numpy as np\n",
    "import os\n",
    "from albumentations import RandomRotate90\n",
    "from tensorflow.keras import mixed_precision\n",
    "import gc"
   ]
  },
  {
   "cell_type": "code",
   "execution_count": 12,
   "metadata": {
    "execution": {
     "iopub.execute_input": "2024-11-18T17:49:23.000275Z",
     "iopub.status.busy": "2024-11-18T17:49:22.999669Z",
     "iopub.status.idle": "2024-11-18T17:49:23.007849Z",
     "shell.execute_reply": "2024-11-18T17:49:23.006263Z",
     "shell.execute_reply.started": "2024-11-18T17:49:23.000232Z"
    },
    "trusted": true
   },
   "outputs": [],
   "source": [
    "def Read_Data(path,is_train = True):\n",
    "  temp = []\n",
    "  updated_path = os.path.join(path,\"VOC2012_train_val\",\"VOC2012_train_val\",\"ImageSets\",\"Segmentation\",\"train.txt\" if is_train else \"val.txt\")\n",
    "  with open(updated_path,\"r\") as file_:\n",
    "    Instances = file_.read().split()\n",
    "    for img in Instances:\n",
    "      path_img = os.path.join(path,\"VOC2012_train_val\",\"VOC2012_train_val\",\"JPEGImages\",img+\".jpg\")\n",
    "      path_label = os.path.join(path,\"VOC2012_train_val\",\"VOC2012_train_val\",\"SegmentationClass\",img+\".png\")\n",
    "      temp.append([path_img,path_label])\n",
    "  return temp"
   ]
  },
  {
   "cell_type": "code",
   "execution_count": 13,
   "metadata": {
    "execution": {
     "iopub.execute_input": "2024-11-18T17:49:23.010161Z",
     "iopub.status.busy": "2024-11-18T17:49:23.009698Z",
     "iopub.status.idle": "2024-11-18T17:49:23.060933Z",
     "shell.execute_reply": "2024-11-18T17:49:23.059831Z",
     "shell.execute_reply.started": "2024-11-18T17:49:23.010110Z"
    },
    "trusted": true
   },
   "outputs": [],
   "source": [
    "path = '../input/pascal-voc-2012-dataset'\n",
    "Train = Read_Data(path=path,is_train=True)\n",
    "Val = Read_Data(path=path,is_train=False)"
   ]
  },
  {
   "cell_type": "code",
   "execution_count": null,
   "metadata": {
    "collapsed": true,
    "execution": {
     "iopub.execute_input": "2024-11-18T17:49:41.893151Z",
     "iopub.status.busy": "2024-11-18T17:49:41.892762Z",
     "iopub.status.idle": "2024-11-18T17:49:42.441911Z",
     "shell.execute_reply": "2024-11-18T17:49:42.440323Z",
     "shell.execute_reply.started": "2024-11-18T17:49:41.893116Z"
    },
    "jupyter": {
     "outputs_hidden": true
    },
    "trusted": true
   },
   "outputs": [],
   "source": [
    "results = model.train(data = Train, epochs = 1)"
   ]
  },
  {
   "cell_type": "code",
   "execution_count": 16,
   "metadata": {
    "execution": {
     "iopub.execute_input": "2024-11-18T17:50:26.729880Z",
     "iopub.status.busy": "2024-11-18T17:50:26.729484Z",
     "iopub.status.idle": "2024-11-18T17:50:26.735549Z",
     "shell.execute_reply": "2024-11-18T17:50:26.734276Z",
     "shell.execute_reply.started": "2024-11-18T17:50:26.729843Z"
    },
    "trusted": true
   },
   "outputs": [],
   "source": [
    "test = \"/kaggle/input/pascal-voc-2012-dataset/VOC2012_test/VOC2012_test/JPEGImages\"\n",
    "\n",
    "# test_img = \"/kaggle/input/pascal-voc-2012-dataset/VOC2012_test/VOC2012_test/JPEGImages/2008_000001.jpg\""
   ]
  },
  {
   "cell_type": "code",
   "execution_count": null,
   "metadata": {
    "execution": {
     "iopub.execute_input": "2024-11-18T18:01:27.265407Z",
     "iopub.status.busy": "2024-11-18T18:01:27.264984Z",
     "iopub.status.idle": "2024-11-18T18:01:27.404505Z",
     "shell.execute_reply": "2024-11-18T18:01:27.403742Z",
     "shell.execute_reply.started": "2024-11-18T18:01:27.265375Z"
    },
    "trusted": true
   },
   "outputs": [],
   "source": [
    "results1 = model.predict(source = test_img, save = True, conf = 0.5)\n",
    "\n"
   ]
  },
  {
   "cell_type": "code",
   "execution_count": null,
   "metadata": {
    "execution": {
     "iopub.execute_input": "2024-11-18T17:55:00.183706Z",
     "iopub.status.busy": "2024-11-18T17:55:00.183104Z",
     "iopub.status.idle": "2024-11-18T17:55:00.244789Z",
     "shell.execute_reply": "2024-11-18T17:55:00.242992Z",
     "shell.execute_reply.started": "2024-11-18T17:55:00.183654Z"
    },
    "trusted": true
   },
   "outputs": [],
   "source": [
    "import cv2\n",
    "\n",
    "result_img_path = '/kaggle/working/runs/detect/predict/2008_000001.jpg'\n",
    "# result_img_path = results1.files[0]  \n",
    "img = cv2.imread(result_img_path)\n",
    "\n",
    "\n",
    "cv2.imshow(\"Predicted Image\", img)\n",
    "cv2.waitKey(0)  \n",
    "cv2.destroyAllWindows()\n"
   ]
  },
  {
   "cell_type": "code",
   "execution_count": null,
   "metadata": {
    "execution": {
     "iopub.execute_input": "2024-11-18T17:55:45.168000Z",
     "iopub.status.busy": "2024-11-18T17:55:45.167636Z",
     "iopub.status.idle": "2024-11-18T17:55:45.327934Z",
     "shell.execute_reply": "2024-11-18T17:55:45.326835Z",
     "shell.execute_reply.started": "2024-11-18T17:55:45.167968Z"
    },
    "trusted": true
   },
   "outputs": [],
   "source": [
    "from PIL import Image\n",
    "\n",
    "\n",
    "result_img_path = '/kaggle/working/runs/detect/predict/2008_000001.jpg'\n",
    "img = Image.open(result_img_path)\n",
    "\n",
    "img.save(\"result_image.png\")\n",
    "\n",
    "img.show()  \n"
   ]
  },
  {
   "cell_type": "code",
   "execution_count": null,
   "metadata": {
    "execution": {
     "iopub.execute_input": "2024-11-18T17:59:07.751389Z",
     "iopub.status.busy": "2024-11-18T17:59:07.750921Z",
     "iopub.status.idle": "2024-11-18T17:59:07.957513Z",
     "shell.execute_reply": "2024-11-18T17:59:07.956442Z",
     "shell.execute_reply.started": "2024-11-18T17:59:07.751348Z"
    },
    "trusted": true
   },
   "outputs": [],
   "source": [
    "import matplotlib.pyplot as plt\n",
    "import matplotlib.image as mpimg\n",
    "\n",
    "result_img_path = '/kaggle/working/runs/detect/predict/2008_000001.jpg'\n",
    "img = mpimg.imread(result_img_path)\n",
    "\n",
    "plt.imshow(img)\n",
    "plt.axis('off')  \n",
    "plt.show()\n"
   ]
  },
  {
   "cell_type": "code",
   "execution_count": 18,
   "metadata": {
    "execution": {
     "iopub.execute_input": "2024-11-18T17:50:41.990435Z",
     "iopub.status.busy": "2024-11-18T17:50:41.989907Z",
     "iopub.status.idle": "2024-11-18T17:50:41.995400Z",
     "shell.execute_reply": "2024-11-18T17:50:41.994287Z",
     "shell.execute_reply.started": "2024-11-18T17:50:41.990386Z"
    },
    "trusted": true
   },
   "outputs": [],
   "source": [
    "import cv2"
   ]
  },
  {
   "cell_type": "code",
   "execution_count": null,
   "metadata": {
    "execution": {
     "iopub.execute_input": "2024-11-18T17:51:34.034516Z",
     "iopub.status.busy": "2024-11-18T17:51:34.034044Z",
     "iopub.status.idle": "2024-11-18T17:51:34.122555Z",
     "shell.execute_reply": "2024-11-18T17:51:34.120889Z",
     "shell.execute_reply.started": "2024-11-18T17:51:34.034475Z"
    },
    "trusted": true
   },
   "outputs": [],
   "source": [
    "img = cv2.imread(\"/kaggle/working/runs/detect/predict/2008_000001.jpg\")\n",
    "cv2.imshow(\"Predictions\", img)\n",
    "cv2.waitKey(0)\n",
    "cv2.destroyAllWindows()"
   ]
  },
  {
   "cell_type": "code",
   "execution_count": null,
   "metadata": {
    "execution": {
     "iopub.status.busy": "2024-11-18T17:49:25.520356Z",
     "iopub.status.idle": "2024-11-18T17:49:25.520748Z",
     "shell.execute_reply": "2024-11-18T17:49:25.520582Z",
     "shell.execute_reply.started": "2024-11-18T17:49:25.520563Z"
    },
    "trusted": true
   },
   "outputs": [],
   "source": [
    "results = model.predict(source=\"path/to/image.jpg\", save=True, conf=0.5)\n",
    "\n",
    "results.show()\n"
   ]
  }
 ],
 "metadata": {
  "kaggle": {
   "accelerator": "none",
   "dataSources": [
    {
     "datasetId": 1271215,
     "sourceId": 2118595,
     "sourceType": "datasetVersion"
    }
   ],
   "dockerImageVersionId": 30786,
   "isGpuEnabled": false,
   "isInternetEnabled": true,
   "language": "python",
   "sourceType": "notebook"
  },
  "kernelspec": {
   "display_name": "Python 3",
   "language": "python",
   "name": "python3"
  },
  "language_info": {
   "codemirror_mode": {
    "name": "ipython",
    "version": 3
   },
   "file_extension": ".py",
   "mimetype": "text/x-python",
   "name": "python",
   "nbconvert_exporter": "python",
   "pygments_lexer": "ipython3",
   "version": "3.10.9"
  }
 },
 "nbformat": 4,
 "nbformat_minor": 4
}
